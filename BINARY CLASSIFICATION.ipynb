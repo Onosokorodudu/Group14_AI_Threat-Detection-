{
 "cells": [
  {
   "cell_type": "markdown",
   "id": "1b3d7f08",
   "metadata": {},
   "source": [
    "# MACHINE LEARNING PROJECT"
   ]
  },
  {
   "cell_type": "markdown",
   "id": "2b137e17",
   "metadata": {},
   "source": [
    "## 1. IMPORT LIBRARIES, TOOLS, AND DATASETS"
   ]
  },
  {
   "cell_type": "markdown",
   "id": "82bbb28e",
   "metadata": {},
   "source": [
    "### 1.1. Import Libraries and tools"
   ]
  },
  {
   "cell_type": "code",
   "execution_count": 1,
   "id": "92c367a2",
   "metadata": {},
   "outputs": [],
   "source": [
    "import pandas as pd\n",
    "import matplotlib.pyplot as plt  # for plotting\n",
    "import seaborn as sns\n",
    "import numpy as np\n",
    "from pandas_profiling import ProfileReport\n",
    "from sklearn import datasets\n",
    "from sklearn.ensemble import RandomForestClassifier\n",
    "from sklearn.metrics import confusion_matrix, classification_report\n",
    "from sklearn.datasets import make_classification\n",
    "from sklearn.model_selection import train_test_split\n"
   ]
  },
  {
   "cell_type": "markdown",
   "id": "fe58b6e0",
   "metadata": {},
   "source": [
    "### 1.2. Load and view Training and Testing Dataset"
   ]
  },
  {
   "cell_type": "code",
   "execution_count": 2,
   "id": "032bc0f2",
   "metadata": {},
   "outputs": [],
   "source": [
    "#loading the UNSV train and test dataset into jupyter notebook\n",
    "train = pd.read_csv('C:/Users/USER/Desktop/DATASETS_AI/UNSW_NB15_training-set.csv')\n",
    "test = pd.read_csv('C:/Users/USER/Desktop/DATASETS_AI/UNSW_NB15_testing-set.csv')"
   ]
  },
  {
   "cell_type": "code",
   "execution_count": 3,
   "id": "b3a9f388",
   "metadata": {},
   "outputs": [
    {
     "name": "stdout",
     "output_type": "stream",
     "text": [
      "(175341, 45)\n"
     ]
    },
    {
     "data": {
      "text/html": [
       "<div>\n",
       "<style scoped>\n",
       "    .dataframe tbody tr th:only-of-type {\n",
       "        vertical-align: middle;\n",
       "    }\n",
       "\n",
       "    .dataframe tbody tr th {\n",
       "        vertical-align: top;\n",
       "    }\n",
       "\n",
       "    .dataframe thead th {\n",
       "        text-align: right;\n",
       "    }\n",
       "</style>\n",
       "<table border=\"1\" class=\"dataframe\">\n",
       "  <thead>\n",
       "    <tr style=\"text-align: right;\">\n",
       "      <th></th>\n",
       "      <th>id</th>\n",
       "      <th>dur</th>\n",
       "      <th>proto</th>\n",
       "      <th>service</th>\n",
       "      <th>state</th>\n",
       "      <th>spkts</th>\n",
       "      <th>dpkts</th>\n",
       "      <th>sbytes</th>\n",
       "      <th>dbytes</th>\n",
       "      <th>rate</th>\n",
       "      <th>...</th>\n",
       "      <th>ct_dst_sport_ltm</th>\n",
       "      <th>ct_dst_src_ltm</th>\n",
       "      <th>is_ftp_login</th>\n",
       "      <th>ct_ftp_cmd</th>\n",
       "      <th>ct_flw_http_mthd</th>\n",
       "      <th>ct_src_ltm</th>\n",
       "      <th>ct_srv_dst</th>\n",
       "      <th>is_sm_ips_ports</th>\n",
       "      <th>attack_cat</th>\n",
       "      <th>label</th>\n",
       "    </tr>\n",
       "  </thead>\n",
       "  <tbody>\n",
       "    <tr>\n",
       "      <th>0</th>\n",
       "      <td>1</td>\n",
       "      <td>0.121478</td>\n",
       "      <td>tcp</td>\n",
       "      <td>-</td>\n",
       "      <td>FIN</td>\n",
       "      <td>6</td>\n",
       "      <td>4</td>\n",
       "      <td>258</td>\n",
       "      <td>172</td>\n",
       "      <td>74.087490</td>\n",
       "      <td>...</td>\n",
       "      <td>1</td>\n",
       "      <td>1</td>\n",
       "      <td>0</td>\n",
       "      <td>0</td>\n",
       "      <td>0</td>\n",
       "      <td>1</td>\n",
       "      <td>1</td>\n",
       "      <td>0</td>\n",
       "      <td>Normal</td>\n",
       "      <td>0</td>\n",
       "    </tr>\n",
       "    <tr>\n",
       "      <th>1</th>\n",
       "      <td>2</td>\n",
       "      <td>0.649902</td>\n",
       "      <td>tcp</td>\n",
       "      <td>-</td>\n",
       "      <td>FIN</td>\n",
       "      <td>14</td>\n",
       "      <td>38</td>\n",
       "      <td>734</td>\n",
       "      <td>42014</td>\n",
       "      <td>78.473372</td>\n",
       "      <td>...</td>\n",
       "      <td>1</td>\n",
       "      <td>2</td>\n",
       "      <td>0</td>\n",
       "      <td>0</td>\n",
       "      <td>0</td>\n",
       "      <td>1</td>\n",
       "      <td>6</td>\n",
       "      <td>0</td>\n",
       "      <td>Normal</td>\n",
       "      <td>0</td>\n",
       "    </tr>\n",
       "    <tr>\n",
       "      <th>2</th>\n",
       "      <td>3</td>\n",
       "      <td>1.623129</td>\n",
       "      <td>tcp</td>\n",
       "      <td>-</td>\n",
       "      <td>FIN</td>\n",
       "      <td>8</td>\n",
       "      <td>16</td>\n",
       "      <td>364</td>\n",
       "      <td>13186</td>\n",
       "      <td>14.170161</td>\n",
       "      <td>...</td>\n",
       "      <td>1</td>\n",
       "      <td>3</td>\n",
       "      <td>0</td>\n",
       "      <td>0</td>\n",
       "      <td>0</td>\n",
       "      <td>2</td>\n",
       "      <td>6</td>\n",
       "      <td>0</td>\n",
       "      <td>Normal</td>\n",
       "      <td>0</td>\n",
       "    </tr>\n",
       "    <tr>\n",
       "      <th>3</th>\n",
       "      <td>4</td>\n",
       "      <td>1.681642</td>\n",
       "      <td>tcp</td>\n",
       "      <td>ftp</td>\n",
       "      <td>FIN</td>\n",
       "      <td>12</td>\n",
       "      <td>12</td>\n",
       "      <td>628</td>\n",
       "      <td>770</td>\n",
       "      <td>13.677108</td>\n",
       "      <td>...</td>\n",
       "      <td>1</td>\n",
       "      <td>3</td>\n",
       "      <td>1</td>\n",
       "      <td>1</td>\n",
       "      <td>0</td>\n",
       "      <td>2</td>\n",
       "      <td>1</td>\n",
       "      <td>0</td>\n",
       "      <td>Normal</td>\n",
       "      <td>0</td>\n",
       "    </tr>\n",
       "    <tr>\n",
       "      <th>4</th>\n",
       "      <td>5</td>\n",
       "      <td>0.449454</td>\n",
       "      <td>tcp</td>\n",
       "      <td>-</td>\n",
       "      <td>FIN</td>\n",
       "      <td>10</td>\n",
       "      <td>6</td>\n",
       "      <td>534</td>\n",
       "      <td>268</td>\n",
       "      <td>33.373826</td>\n",
       "      <td>...</td>\n",
       "      <td>1</td>\n",
       "      <td>40</td>\n",
       "      <td>0</td>\n",
       "      <td>0</td>\n",
       "      <td>0</td>\n",
       "      <td>2</td>\n",
       "      <td>39</td>\n",
       "      <td>0</td>\n",
       "      <td>Normal</td>\n",
       "      <td>0</td>\n",
       "    </tr>\n",
       "  </tbody>\n",
       "</table>\n",
       "<p>5 rows × 45 columns</p>\n",
       "</div>"
      ],
      "text/plain": [
       "   id       dur proto service state  spkts  dpkts  sbytes  dbytes       rate  \\\n",
       "0   1  0.121478   tcp       -   FIN      6      4     258     172  74.087490   \n",
       "1   2  0.649902   tcp       -   FIN     14     38     734   42014  78.473372   \n",
       "2   3  1.623129   tcp       -   FIN      8     16     364   13186  14.170161   \n",
       "3   4  1.681642   tcp     ftp   FIN     12     12     628     770  13.677108   \n",
       "4   5  0.449454   tcp       -   FIN     10      6     534     268  33.373826   \n",
       "\n",
       "   ...  ct_dst_sport_ltm  ct_dst_src_ltm  is_ftp_login  ct_ftp_cmd  \\\n",
       "0  ...                 1               1             0           0   \n",
       "1  ...                 1               2             0           0   \n",
       "2  ...                 1               3             0           0   \n",
       "3  ...                 1               3             1           1   \n",
       "4  ...                 1              40             0           0   \n",
       "\n",
       "   ct_flw_http_mthd  ct_src_ltm  ct_srv_dst  is_sm_ips_ports  attack_cat  \\\n",
       "0                 0           1           1                0      Normal   \n",
       "1                 0           1           6                0      Normal   \n",
       "2                 0           2           6                0      Normal   \n",
       "3                 0           2           1                0      Normal   \n",
       "4                 0           2          39                0      Normal   \n",
       "\n",
       "   label  \n",
       "0      0  \n",
       "1      0  \n",
       "2      0  \n",
       "3      0  \n",
       "4      0  \n",
       "\n",
       "[5 rows x 45 columns]"
      ]
     },
     "execution_count": 3,
     "metadata": {},
     "output_type": "execute_result"
    }
   ],
   "source": [
    "#DISPLAY THE NUMBER OF ROWS AND COLUMNS ON THE DATASET AND FIRST 5 ROWS\n",
    "print(train.shape)\n",
    "train.head()"
   ]
  },
  {
   "cell_type": "markdown",
   "id": "f593ea72",
   "metadata": {},
   "source": [
    "## 2. PERFORM SIMPLE EXPLORATORY DATA ANALYSIS OF UNSW DATA FRAME"
   ]
  },
  {
   "cell_type": "markdown",
   "id": "de9c4e2e",
   "metadata": {},
   "source": [
    "### 2.1. Understanding the UNSW Dataset"
   ]
  },
  {
   "cell_type": "code",
   "execution_count": 4,
   "id": "bcb49f83",
   "metadata": {},
   "outputs": [
    {
     "name": "stdout",
     "output_type": "stream",
     "text": [
      "<class 'pandas.core.frame.DataFrame'>\n",
      "RangeIndex: 175341 entries, 0 to 175340\n",
      "Data columns (total 45 columns):\n",
      " #   Column             Non-Null Count   Dtype  \n",
      "---  ------             --------------   -----  \n",
      " 0   id                 175341 non-null  int64  \n",
      " 1   dur                175341 non-null  float64\n",
      " 2   proto              175341 non-null  object \n",
      " 3   service            175341 non-null  object \n",
      " 4   state              175341 non-null  object \n",
      " 5   spkts              175341 non-null  int64  \n",
      " 6   dpkts              175341 non-null  int64  \n",
      " 7   sbytes             175341 non-null  int64  \n",
      " 8   dbytes             175341 non-null  int64  \n",
      " 9   rate               175341 non-null  float64\n",
      " 10  sttl               175341 non-null  int64  \n",
      " 11  dttl               175341 non-null  int64  \n",
      " 12  sload              175341 non-null  float64\n",
      " 13  dload              175341 non-null  float64\n",
      " 14  sloss              175341 non-null  int64  \n",
      " 15  dloss              175341 non-null  int64  \n",
      " 16  sinpkt             175341 non-null  float64\n",
      " 17  dinpkt             175341 non-null  float64\n",
      " 18  sjit               175341 non-null  float64\n",
      " 19  djit               175341 non-null  float64\n",
      " 20  swin               175341 non-null  int64  \n",
      " 21  stcpb              175341 non-null  int64  \n",
      " 22  dtcpb              175341 non-null  int64  \n",
      " 23  dwin               175341 non-null  int64  \n",
      " 24  tcprtt             175341 non-null  float64\n",
      " 25  synack             175341 non-null  float64\n",
      " 26  ackdat             175341 non-null  float64\n",
      " 27  smean              175341 non-null  int64  \n",
      " 28  dmean              175341 non-null  int64  \n",
      " 29  trans_depth        175341 non-null  int64  \n",
      " 30  response_body_len  175341 non-null  int64  \n",
      " 31  ct_srv_src         175341 non-null  int64  \n",
      " 32  ct_state_ttl       175341 non-null  int64  \n",
      " 33  ct_dst_ltm         175341 non-null  int64  \n",
      " 34  ct_src_dport_ltm   175341 non-null  int64  \n",
      " 35  ct_dst_sport_ltm   175341 non-null  int64  \n",
      " 36  ct_dst_src_ltm     175341 non-null  int64  \n",
      " 37  is_ftp_login       175341 non-null  int64  \n",
      " 38  ct_ftp_cmd         175341 non-null  int64  \n",
      " 39  ct_flw_http_mthd   175341 non-null  int64  \n",
      " 40  ct_src_ltm         175341 non-null  int64  \n",
      " 41  ct_srv_dst         175341 non-null  int64  \n",
      " 42  is_sm_ips_ports    175341 non-null  int64  \n",
      " 43  attack_cat         175341 non-null  object \n",
      " 44  label              175341 non-null  int64  \n",
      "dtypes: float64(11), int64(30), object(4)\n",
      "memory usage: 60.2+ MB\n"
     ]
    }
   ],
   "source": [
    "#view the dataset general information\n",
    "train.info()"
   ]
  },
  {
   "cell_type": "code",
   "execution_count": 5,
   "id": "425c3813",
   "metadata": {},
   "outputs": [
    {
     "data": {
      "text/html": [
       "<div>\n",
       "<style scoped>\n",
       "    .dataframe tbody tr th:only-of-type {\n",
       "        vertical-align: middle;\n",
       "    }\n",
       "\n",
       "    .dataframe tbody tr th {\n",
       "        vertical-align: top;\n",
       "    }\n",
       "\n",
       "    .dataframe thead th {\n",
       "        text-align: right;\n",
       "    }\n",
       "</style>\n",
       "<table border=\"1\" class=\"dataframe\">\n",
       "  <thead>\n",
       "    <tr style=\"text-align: right;\">\n",
       "      <th></th>\n",
       "      <th>id</th>\n",
       "      <th>dur</th>\n",
       "      <th>spkts</th>\n",
       "      <th>dpkts</th>\n",
       "      <th>sbytes</th>\n",
       "      <th>dbytes</th>\n",
       "      <th>rate</th>\n",
       "      <th>sttl</th>\n",
       "      <th>dttl</th>\n",
       "      <th>sload</th>\n",
       "      <th>...</th>\n",
       "      <th>ct_src_dport_ltm</th>\n",
       "      <th>ct_dst_sport_ltm</th>\n",
       "      <th>ct_dst_src_ltm</th>\n",
       "      <th>is_ftp_login</th>\n",
       "      <th>ct_ftp_cmd</th>\n",
       "      <th>ct_flw_http_mthd</th>\n",
       "      <th>ct_src_ltm</th>\n",
       "      <th>ct_srv_dst</th>\n",
       "      <th>is_sm_ips_ports</th>\n",
       "      <th>label</th>\n",
       "    </tr>\n",
       "  </thead>\n",
       "  <tbody>\n",
       "    <tr>\n",
       "      <th>count</th>\n",
       "      <td>175341.000000</td>\n",
       "      <td>175341.000000</td>\n",
       "      <td>175341.000000</td>\n",
       "      <td>175341.000000</td>\n",
       "      <td>1.753410e+05</td>\n",
       "      <td>1.753410e+05</td>\n",
       "      <td>1.753410e+05</td>\n",
       "      <td>175341.000000</td>\n",
       "      <td>175341.000000</td>\n",
       "      <td>1.753410e+05</td>\n",
       "      <td>...</td>\n",
       "      <td>175341.000000</td>\n",
       "      <td>175341.000000</td>\n",
       "      <td>175341.000000</td>\n",
       "      <td>175341.000000</td>\n",
       "      <td>175341.000000</td>\n",
       "      <td>175341.000000</td>\n",
       "      <td>175341.000000</td>\n",
       "      <td>175341.000000</td>\n",
       "      <td>175341.000000</td>\n",
       "      <td>175341.000000</td>\n",
       "    </tr>\n",
       "    <tr>\n",
       "      <th>mean</th>\n",
       "      <td>87671.000000</td>\n",
       "      <td>1.359389</td>\n",
       "      <td>20.298664</td>\n",
       "      <td>18.969591</td>\n",
       "      <td>8.844844e+03</td>\n",
       "      <td>1.492892e+04</td>\n",
       "      <td>9.540619e+04</td>\n",
       "      <td>179.546997</td>\n",
       "      <td>79.609567</td>\n",
       "      <td>7.345403e+07</td>\n",
       "      <td>...</td>\n",
       "      <td>5.383538</td>\n",
       "      <td>4.206255</td>\n",
       "      <td>8.729881</td>\n",
       "      <td>0.014948</td>\n",
       "      <td>0.014948</td>\n",
       "      <td>0.133066</td>\n",
       "      <td>6.955789</td>\n",
       "      <td>9.100758</td>\n",
       "      <td>0.015752</td>\n",
       "      <td>0.680622</td>\n",
       "    </tr>\n",
       "    <tr>\n",
       "      <th>std</th>\n",
       "      <td>50616.731112</td>\n",
       "      <td>6.480249</td>\n",
       "      <td>136.887597</td>\n",
       "      <td>110.258271</td>\n",
       "      <td>1.747656e+05</td>\n",
       "      <td>1.436542e+05</td>\n",
       "      <td>1.654010e+05</td>\n",
       "      <td>102.940011</td>\n",
       "      <td>110.506863</td>\n",
       "      <td>1.883574e+08</td>\n",
       "      <td>...</td>\n",
       "      <td>8.047104</td>\n",
       "      <td>5.783585</td>\n",
       "      <td>10.956186</td>\n",
       "      <td>0.126048</td>\n",
       "      <td>0.126048</td>\n",
       "      <td>0.701208</td>\n",
       "      <td>8.321493</td>\n",
       "      <td>10.756952</td>\n",
       "      <td>0.124516</td>\n",
       "      <td>0.466237</td>\n",
       "    </tr>\n",
       "    <tr>\n",
       "      <th>min</th>\n",
       "      <td>1.000000</td>\n",
       "      <td>0.000000</td>\n",
       "      <td>1.000000</td>\n",
       "      <td>0.000000</td>\n",
       "      <td>2.800000e+01</td>\n",
       "      <td>0.000000e+00</td>\n",
       "      <td>0.000000e+00</td>\n",
       "      <td>0.000000</td>\n",
       "      <td>0.000000</td>\n",
       "      <td>0.000000e+00</td>\n",
       "      <td>...</td>\n",
       "      <td>1.000000</td>\n",
       "      <td>1.000000</td>\n",
       "      <td>1.000000</td>\n",
       "      <td>0.000000</td>\n",
       "      <td>0.000000</td>\n",
       "      <td>0.000000</td>\n",
       "      <td>1.000000</td>\n",
       "      <td>1.000000</td>\n",
       "      <td>0.000000</td>\n",
       "      <td>0.000000</td>\n",
       "    </tr>\n",
       "    <tr>\n",
       "      <th>25%</th>\n",
       "      <td>43836.000000</td>\n",
       "      <td>0.000008</td>\n",
       "      <td>2.000000</td>\n",
       "      <td>0.000000</td>\n",
       "      <td>1.140000e+02</td>\n",
       "      <td>0.000000e+00</td>\n",
       "      <td>3.278614e+01</td>\n",
       "      <td>62.000000</td>\n",
       "      <td>0.000000</td>\n",
       "      <td>1.305334e+04</td>\n",
       "      <td>...</td>\n",
       "      <td>1.000000</td>\n",
       "      <td>1.000000</td>\n",
       "      <td>1.000000</td>\n",
       "      <td>0.000000</td>\n",
       "      <td>0.000000</td>\n",
       "      <td>0.000000</td>\n",
       "      <td>2.000000</td>\n",
       "      <td>2.000000</td>\n",
       "      <td>0.000000</td>\n",
       "      <td>0.000000</td>\n",
       "    </tr>\n",
       "    <tr>\n",
       "      <th>50%</th>\n",
       "      <td>87671.000000</td>\n",
       "      <td>0.001582</td>\n",
       "      <td>2.000000</td>\n",
       "      <td>2.000000</td>\n",
       "      <td>4.300000e+02</td>\n",
       "      <td>1.640000e+02</td>\n",
       "      <td>3.225807e+03</td>\n",
       "      <td>254.000000</td>\n",
       "      <td>29.000000</td>\n",
       "      <td>8.796748e+05</td>\n",
       "      <td>...</td>\n",
       "      <td>1.000000</td>\n",
       "      <td>1.000000</td>\n",
       "      <td>3.000000</td>\n",
       "      <td>0.000000</td>\n",
       "      <td>0.000000</td>\n",
       "      <td>0.000000</td>\n",
       "      <td>3.000000</td>\n",
       "      <td>4.000000</td>\n",
       "      <td>0.000000</td>\n",
       "      <td>1.000000</td>\n",
       "    </tr>\n",
       "    <tr>\n",
       "      <th>75%</th>\n",
       "      <td>131506.000000</td>\n",
       "      <td>0.668069</td>\n",
       "      <td>12.000000</td>\n",
       "      <td>10.000000</td>\n",
       "      <td>1.418000e+03</td>\n",
       "      <td>1.102000e+03</td>\n",
       "      <td>1.250000e+05</td>\n",
       "      <td>254.000000</td>\n",
       "      <td>252.000000</td>\n",
       "      <td>8.888889e+07</td>\n",
       "      <td>...</td>\n",
       "      <td>5.000000</td>\n",
       "      <td>3.000000</td>\n",
       "      <td>12.000000</td>\n",
       "      <td>0.000000</td>\n",
       "      <td>0.000000</td>\n",
       "      <td>0.000000</td>\n",
       "      <td>9.000000</td>\n",
       "      <td>12.000000</td>\n",
       "      <td>0.000000</td>\n",
       "      <td>1.000000</td>\n",
       "    </tr>\n",
       "    <tr>\n",
       "      <th>max</th>\n",
       "      <td>175341.000000</td>\n",
       "      <td>59.999989</td>\n",
       "      <td>9616.000000</td>\n",
       "      <td>10974.000000</td>\n",
       "      <td>1.296523e+07</td>\n",
       "      <td>1.465555e+07</td>\n",
       "      <td>1.000000e+06</td>\n",
       "      <td>255.000000</td>\n",
       "      <td>254.000000</td>\n",
       "      <td>5.988000e+09</td>\n",
       "      <td>...</td>\n",
       "      <td>51.000000</td>\n",
       "      <td>46.000000</td>\n",
       "      <td>65.000000</td>\n",
       "      <td>4.000000</td>\n",
       "      <td>4.000000</td>\n",
       "      <td>30.000000</td>\n",
       "      <td>60.000000</td>\n",
       "      <td>62.000000</td>\n",
       "      <td>1.000000</td>\n",
       "      <td>1.000000</td>\n",
       "    </tr>\n",
       "  </tbody>\n",
       "</table>\n",
       "<p>8 rows × 41 columns</p>\n",
       "</div>"
      ],
      "text/plain": [
       "                  id            dur          spkts          dpkts  \\\n",
       "count  175341.000000  175341.000000  175341.000000  175341.000000   \n",
       "mean    87671.000000       1.359389      20.298664      18.969591   \n",
       "std     50616.731112       6.480249     136.887597     110.258271   \n",
       "min         1.000000       0.000000       1.000000       0.000000   \n",
       "25%     43836.000000       0.000008       2.000000       0.000000   \n",
       "50%     87671.000000       0.001582       2.000000       2.000000   \n",
       "75%    131506.000000       0.668069      12.000000      10.000000   \n",
       "max    175341.000000      59.999989    9616.000000   10974.000000   \n",
       "\n",
       "             sbytes        dbytes          rate           sttl           dttl  \\\n",
       "count  1.753410e+05  1.753410e+05  1.753410e+05  175341.000000  175341.000000   \n",
       "mean   8.844844e+03  1.492892e+04  9.540619e+04     179.546997      79.609567   \n",
       "std    1.747656e+05  1.436542e+05  1.654010e+05     102.940011     110.506863   \n",
       "min    2.800000e+01  0.000000e+00  0.000000e+00       0.000000       0.000000   \n",
       "25%    1.140000e+02  0.000000e+00  3.278614e+01      62.000000       0.000000   \n",
       "50%    4.300000e+02  1.640000e+02  3.225807e+03     254.000000      29.000000   \n",
       "75%    1.418000e+03  1.102000e+03  1.250000e+05     254.000000     252.000000   \n",
       "max    1.296523e+07  1.465555e+07  1.000000e+06     255.000000     254.000000   \n",
       "\n",
       "              sload  ...  ct_src_dport_ltm  ct_dst_sport_ltm  ct_dst_src_ltm  \\\n",
       "count  1.753410e+05  ...     175341.000000     175341.000000   175341.000000   \n",
       "mean   7.345403e+07  ...          5.383538          4.206255        8.729881   \n",
       "std    1.883574e+08  ...          8.047104          5.783585       10.956186   \n",
       "min    0.000000e+00  ...          1.000000          1.000000        1.000000   \n",
       "25%    1.305334e+04  ...          1.000000          1.000000        1.000000   \n",
       "50%    8.796748e+05  ...          1.000000          1.000000        3.000000   \n",
       "75%    8.888889e+07  ...          5.000000          3.000000       12.000000   \n",
       "max    5.988000e+09  ...         51.000000         46.000000       65.000000   \n",
       "\n",
       "        is_ftp_login     ct_ftp_cmd  ct_flw_http_mthd     ct_src_ltm  \\\n",
       "count  175341.000000  175341.000000     175341.000000  175341.000000   \n",
       "mean        0.014948       0.014948          0.133066       6.955789   \n",
       "std         0.126048       0.126048          0.701208       8.321493   \n",
       "min         0.000000       0.000000          0.000000       1.000000   \n",
       "25%         0.000000       0.000000          0.000000       2.000000   \n",
       "50%         0.000000       0.000000          0.000000       3.000000   \n",
       "75%         0.000000       0.000000          0.000000       9.000000   \n",
       "max         4.000000       4.000000         30.000000      60.000000   \n",
       "\n",
       "          ct_srv_dst  is_sm_ips_ports          label  \n",
       "count  175341.000000    175341.000000  175341.000000  \n",
       "mean        9.100758         0.015752       0.680622  \n",
       "std        10.756952         0.124516       0.466237  \n",
       "min         1.000000         0.000000       0.000000  \n",
       "25%         2.000000         0.000000       0.000000  \n",
       "50%         4.000000         0.000000       1.000000  \n",
       "75%        12.000000         0.000000       1.000000  \n",
       "max        62.000000         1.000000       1.000000  \n",
       "\n",
       "[8 rows x 41 columns]"
      ]
     },
     "execution_count": 5,
     "metadata": {},
     "output_type": "execute_result"
    }
   ],
   "source": [
    "#BASIC DESCRIPTIVE STATISTICS OF THE DATASET\n",
    "train.describe()"
   ]
  },
  {
   "cell_type": "code",
   "execution_count": 6,
   "id": "510f412e",
   "metadata": {},
   "outputs": [
    {
     "data": {
      "text/plain": [
       "Text(0, 0.5, 'Frequency')"
      ]
     },
     "execution_count": 6,
     "metadata": {},
     "output_type": "execute_result"
    },
    {
     "data": {
      "image/png": "[encoded data removed]",
      "text/plain": [
       "<Figure size 432x288 with 1 Axes>"
      ]
     },
     "metadata": {
      "needs_background": "light"
     },
     "output_type": "display_data"
    }
   ],
   "source": [
    "#Examine the distribution of attack and normal traffic on our train dataset\n",
    "\n",
    "LABELS = [\"Normal\", \"Attack\"]\n",
    "\n",
    "count_classes = pd.value_counts(train['label'], sort = True)\n",
    "\n",
    "count_classes.plot(kind = 'bar', rot=0)\n",
    "\n",
    "plt.title(\"Traffic Distribution\")\n",
    "\n",
    "plt.xticks(range(2), LABELS)\n",
    "\n",
    "plt.xlabel(\"Traffic Type\")\n",
    "\n",
    "plt.ylabel(\"Frequency\")\n"
   ]
  },
  {
   "cell_type": "code",
   "execution_count": 7,
   "id": "aafd1c9d",
   "metadata": {},
   "outputs": [],
   "source": [
    "#Drop 'attack_cat' column\n",
    "train.drop(['attack_cat'], axis=1, inplace=True)\n",
    "test.drop(['attack_cat'], axis=1, inplace=True)"
   ]
  },
  {
   "cell_type": "code",
   "execution_count": 8,
   "id": "c68aeb6a",
   "metadata": {},
   "outputs": [
    {
     "data": {
      "text/html": [
       "<div>\n",
       "<style scoped>\n",
       "    .dataframe tbody tr th:only-of-type {\n",
       "        vertical-align: middle;\n",
       "    }\n",
       "\n",
       "    .dataframe tbody tr th {\n",
       "        vertical-align: top;\n",
       "    }\n",
       "\n",
       "    .dataframe thead th {\n",
       "        text-align: right;\n",
       "    }\n",
       "</style>\n",
       "<table border=\"1\" class=\"dataframe\">\n",
       "  <thead>\n",
       "    <tr style=\"text-align: right;\">\n",
       "      <th></th>\n",
       "      <th>id</th>\n",
       "      <th>dur</th>\n",
       "      <th>proto</th>\n",
       "      <th>service</th>\n",
       "      <th>state</th>\n",
       "      <th>spkts</th>\n",
       "      <th>dpkts</th>\n",
       "      <th>sbytes</th>\n",
       "      <th>dbytes</th>\n",
       "      <th>rate</th>\n",
       "      <th>...</th>\n",
       "      <th>ct_src_dport_ltm</th>\n",
       "      <th>ct_dst_sport_ltm</th>\n",
       "      <th>ct_dst_src_ltm</th>\n",
       "      <th>is_ftp_login</th>\n",
       "      <th>ct_ftp_cmd</th>\n",
       "      <th>ct_flw_http_mthd</th>\n",
       "      <th>ct_src_ltm</th>\n",
       "      <th>ct_srv_dst</th>\n",
       "      <th>is_sm_ips_ports</th>\n",
       "      <th>label</th>\n",
       "    </tr>\n",
       "  </thead>\n",
       "  <tbody>\n",
       "    <tr>\n",
       "      <th>0</th>\n",
       "      <td>1</td>\n",
       "      <td>0.121478</td>\n",
       "      <td>tcp</td>\n",
       "      <td>-</td>\n",
       "      <td>FIN</td>\n",
       "      <td>6</td>\n",
       "      <td>4</td>\n",
       "      <td>258</td>\n",
       "      <td>172</td>\n",
       "      <td>74.087490</td>\n",
       "      <td>...</td>\n",
       "      <td>1</td>\n",
       "      <td>1</td>\n",
       "      <td>1</td>\n",
       "      <td>0</td>\n",
       "      <td>0</td>\n",
       "      <td>0</td>\n",
       "      <td>1</td>\n",
       "      <td>1</td>\n",
       "      <td>0</td>\n",
       "      <td>0</td>\n",
       "    </tr>\n",
       "    <tr>\n",
       "      <th>1</th>\n",
       "      <td>2</td>\n",
       "      <td>0.649902</td>\n",
       "      <td>tcp</td>\n",
       "      <td>-</td>\n",
       "      <td>FIN</td>\n",
       "      <td>14</td>\n",
       "      <td>38</td>\n",
       "      <td>734</td>\n",
       "      <td>42014</td>\n",
       "      <td>78.473372</td>\n",
       "      <td>...</td>\n",
       "      <td>1</td>\n",
       "      <td>1</td>\n",
       "      <td>2</td>\n",
       "      <td>0</td>\n",
       "      <td>0</td>\n",
       "      <td>0</td>\n",
       "      <td>1</td>\n",
       "      <td>6</td>\n",
       "      <td>0</td>\n",
       "      <td>0</td>\n",
       "    </tr>\n",
       "    <tr>\n",
       "      <th>2</th>\n",
       "      <td>3</td>\n",
       "      <td>1.623129</td>\n",
       "      <td>tcp</td>\n",
       "      <td>-</td>\n",
       "      <td>FIN</td>\n",
       "      <td>8</td>\n",
       "      <td>16</td>\n",
       "      <td>364</td>\n",
       "      <td>13186</td>\n",
       "      <td>14.170161</td>\n",
       "      <td>...</td>\n",
       "      <td>1</td>\n",
       "      <td>1</td>\n",
       "      <td>3</td>\n",
       "      <td>0</td>\n",
       "      <td>0</td>\n",
       "      <td>0</td>\n",
       "      <td>2</td>\n",
       "      <td>6</td>\n",
       "      <td>0</td>\n",
       "      <td>0</td>\n",
       "    </tr>\n",
       "    <tr>\n",
       "      <th>3</th>\n",
       "      <td>4</td>\n",
       "      <td>1.681642</td>\n",
       "      <td>tcp</td>\n",
       "      <td>ftp</td>\n",
       "      <td>FIN</td>\n",
       "      <td>12</td>\n",
       "      <td>12</td>\n",
       "      <td>628</td>\n",
       "      <td>770</td>\n",
       "      <td>13.677108</td>\n",
       "      <td>...</td>\n",
       "      <td>1</td>\n",
       "      <td>1</td>\n",
       "      <td>3</td>\n",
       "      <td>1</td>\n",
       "      <td>1</td>\n",
       "      <td>0</td>\n",
       "      <td>2</td>\n",
       "      <td>1</td>\n",
       "      <td>0</td>\n",
       "      <td>0</td>\n",
       "    </tr>\n",
       "    <tr>\n",
       "      <th>4</th>\n",
       "      <td>5</td>\n",
       "      <td>0.449454</td>\n",
       "      <td>tcp</td>\n",
       "      <td>-</td>\n",
       "      <td>FIN</td>\n",
       "      <td>10</td>\n",
       "      <td>6</td>\n",
       "      <td>534</td>\n",
       "      <td>268</td>\n",
       "      <td>33.373826</td>\n",
       "      <td>...</td>\n",
       "      <td>2</td>\n",
       "      <td>1</td>\n",
       "      <td>40</td>\n",
       "      <td>0</td>\n",
       "      <td>0</td>\n",
       "      <td>0</td>\n",
       "      <td>2</td>\n",
       "      <td>39</td>\n",
       "      <td>0</td>\n",
       "      <td>0</td>\n",
       "    </tr>\n",
       "  </tbody>\n",
       "</table>\n",
       "<p>5 rows × 44 columns</p>\n",
       "</div>"
      ],
      "text/plain": [
       "   id       dur proto service state  spkts  dpkts  sbytes  dbytes       rate  \\\n",
       "0   1  0.121478   tcp       -   FIN      6      4     258     172  74.087490   \n",
       "1   2  0.649902   tcp       -   FIN     14     38     734   42014  78.473372   \n",
       "2   3  1.623129   tcp       -   FIN      8     16     364   13186  14.170161   \n",
       "3   4  1.681642   tcp     ftp   FIN     12     12     628     770  13.677108   \n",
       "4   5  0.449454   tcp       -   FIN     10      6     534     268  33.373826   \n",
       "\n",
       "   ...  ct_src_dport_ltm  ct_dst_sport_ltm  ct_dst_src_ltm  is_ftp_login  \\\n",
       "0  ...                 1                 1               1             0   \n",
       "1  ...                 1                 1               2             0   \n",
       "2  ...                 1                 1               3             0   \n",
       "3  ...                 1                 1               3             1   \n",
       "4  ...                 2                 1              40             0   \n",
       "\n",
       "   ct_ftp_cmd  ct_flw_http_mthd  ct_src_ltm  ct_srv_dst  is_sm_ips_ports  \\\n",
       "0           0                 0           1           1                0   \n",
       "1           0                 0           1           6                0   \n",
       "2           0                 0           2           6                0   \n",
       "3           1                 0           2           1                0   \n",
       "4           0                 0           2          39                0   \n",
       "\n",
       "   label  \n",
       "0      0  \n",
       "1      0  \n",
       "2      0  \n",
       "3      0  \n",
       "4      0  \n",
       "\n",
       "[5 rows x 44 columns]"
      ]
     },
     "execution_count": 8,
     "metadata": {},
     "output_type": "execute_result"
    }
   ],
   "source": [
    "train.head()"
   ]
  },
  {
   "cell_type": "markdown",
   "id": "1e81d969",
   "metadata": {},
   "source": [
    "### 2.2. VISUALIZATIONS"
   ]
  },
  {
   "cell_type": "markdown",
   "id": "fb584d9f",
   "metadata": {},
   "source": [
    "#### 2.2.1. Frequency of Categories of output variable using Count plot"
   ]
  },
  {
   "cell_type": "code",
   "execution_count": 9,
   "id": "eb3127a2",
   "metadata": {},
   "outputs": [
    {
     "data": {
      "image/png": "[encoded data removed]",
      "text/plain": [
       "<Figure size 1440x432 with 1 Axes>"
      ]
     },
     "metadata": {
      "needs_background": "light"
     },
     "output_type": "display_data"
    }
   ],
   "source": [
    "#Frequency of different categories of attacks\n",
    "plt.figure(figsize=(20,6))\n",
    "sns.countplot(x='label', data = train)\n",
    "plt.show()"
   ]
  },
  {
   "cell_type": "markdown",
   "id": "f33f2759",
   "metadata": {},
   "source": [
    "#### 2.2.2. Spreads of Output/Target Variable using Violin plot"
   ]
  },
  {
   "cell_type": "code",
   "execution_count": 10,
   "id": "46036348",
   "metadata": {},
   "outputs": [
    {
     "data": {
      "image/png": "[encoded data removed]",
      "text/plain": [
       "<Figure size 1440x432 with 1 Axes>"
      ]
     },
     "metadata": {
      "needs_background": "light"
     },
     "output_type": "display_data"
    }
   ],
   "source": [
    "#Attack categories spread with respect to rate variable\n",
    "plt.figure(figsize=(20,6))\n",
    "sns.violinplot(x='label', y='rate', data= train).set_title('Attack Category Rate ViolinPlot')\n",
    "plt.show()"
   ]
  },
  {
   "cell_type": "code",
   "execution_count": 11,
   "id": "76c73d16",
   "metadata": {},
   "outputs": [
    {
     "data": {
      "image/png": "[encoded data removed]",
      "text/plain": [
       "<Figure size 1440x432 with 1 Axes>"
      ]
     },
     "metadata": {
      "needs_background": "light"
     },
     "output_type": "display_data"
    }
   ],
   "source": [
    "#Attack Sub categories spread with respect to sbytes variable\n",
    "plt.figure(figsize=(20,6))\n",
    "sns.violinplot(x='label', y='sbytes', data= train).set_title('Attack Category Sbytes ViolinPlot')\n",
    "plt.show()"
   ]
  },
  {
   "cell_type": "code",
   "execution_count": 12,
   "id": "be63723b",
   "metadata": {},
   "outputs": [
    {
     "data": {
      "image/png": "[encoded data removed]",
      "text/plain": [
       "<Figure size 1440x432 with 1 Axes>"
      ]
     },
     "metadata": {
      "needs_background": "light"
     },
     "output_type": "display_data"
    }
   ],
   "source": [
    "#Attack Sub categories spread with respect to trans_depth variable\n",
    "plt.figure(figsize=(20,6))\n",
    "sns.violinplot(x='label', y='trans_depth', data= train).set_title('Attack Category Trans_depth ViolinPlot')\n",
    "plt.show()"
   ]
  },
  {
   "cell_type": "code",
   "execution_count": 13,
   "id": "2bcc2250",
   "metadata": {},
   "outputs": [
    {
     "data": {
      "image/png": "[encoded data removed]",
      "text/plain": [
       "<Figure size 1440x432 with 1 Axes>"
      ]
     },
     "metadata": {
      "needs_background": "light"
     },
     "output_type": "display_data"
    }
   ],
   "source": [
    "#Attack Sub categories spread with respect to duration variable\n",
    "plt.figure(figsize=(20,6))\n",
    "sns.violinplot(x='label', y='dur', data= train).set_title('Attack Category Duration ViolinPlot')\n",
    "plt.show()"
   ]
  },
  {
   "cell_type": "code",
   "execution_count": 14,
   "id": "b98aa658",
   "metadata": {},
   "outputs": [],
   "source": [
    "#PERFORM SIMPLE EXPLORATORY DATA ANALYSIS USING PANDAS PROFILING\n",
    "profile = ProfileReport(train, title = 'Profile Report for Training Dataset', html= { 'style' : {'full_width':True}})"
   ]
  },
  {
   "cell_type": "markdown",
   "id": "afc5a1b0",
   "metadata": {},
   "source": [
    "## 3. DATA PRE PROCESSING/CLEANING"
   ]
  },
  {
   "cell_type": "markdown",
   "id": "e350e596",
   "metadata": {},
   "source": [
    "### 3.1. View missing values and Datatypes"
   ]
  },
  {
   "cell_type": "code",
   "execution_count": 15,
   "id": "6d64aee5",
   "metadata": {},
   "outputs": [
    {
     "data": {
      "text/plain": [
       "id                   0\n",
       "dur                  0\n",
       "proto                0\n",
       "service              0\n",
       "state                0\n",
       "spkts                0\n",
       "dpkts                0\n",
       "sbytes               0\n",
       "dbytes               0\n",
       "rate                 0\n",
       "sttl                 0\n",
       "dttl                 0\n",
       "sload                0\n",
       "dload                0\n",
       "sloss                0\n",
       "dloss                0\n",
       "sinpkt               0\n",
       "dinpkt               0\n",
       "sjit                 0\n",
       "djit                 0\n",
       "swin                 0\n",
       "stcpb                0\n",
       "dtcpb                0\n",
       "dwin                 0\n",
       "tcprtt               0\n",
       "synack               0\n",
       "ackdat               0\n",
       "smean                0\n",
       "dmean                0\n",
       "trans_depth          0\n",
       "response_body_len    0\n",
       "ct_srv_src           0\n",
       "ct_state_ttl         0\n",
       "ct_dst_ltm           0\n",
       "ct_src_dport_ltm     0\n",
       "ct_dst_sport_ltm     0\n",
       "ct_dst_src_ltm       0\n",
       "is_ftp_login         0\n",
       "ct_ftp_cmd           0\n",
       "ct_flw_http_mthd     0\n",
       "ct_src_ltm           0\n",
       "ct_srv_dst           0\n",
       "is_sm_ips_ports      0\n",
       "label                0\n",
       "dtype: int64"
      ]
     },
     "execution_count": 15,
     "metadata": {},
     "output_type": "execute_result"
    }
   ],
   "source": [
    "#CHECK FOR MISSING VALUES IN THE COLUMNS/FEATURES OF THE TRAIN DATASET\n",
    "train.isnull().sum()"
   ]
  },
  {
   "cell_type": "code",
   "execution_count": 16,
   "id": "116a226c",
   "metadata": {},
   "outputs": [
    {
     "data": {
      "text/plain": [
       "id                     int64\n",
       "dur                  float64\n",
       "proto                 object\n",
       "service               object\n",
       "state                 object\n",
       "spkts                  int64\n",
       "dpkts                  int64\n",
       "sbytes                 int64\n",
       "dbytes                 int64\n",
       "rate                 float64\n",
       "sttl                   int64\n",
       "dttl                   int64\n",
       "sload                float64\n",
       "dload                float64\n",
       "sloss                  int64\n",
       "dloss                  int64\n",
       "sinpkt               float64\n",
       "dinpkt               float64\n",
       "sjit                 float64\n",
       "djit                 float64\n",
       "swin                   int64\n",
       "stcpb                  int64\n",
       "dtcpb                  int64\n",
       "dwin                   int64\n",
       "tcprtt               float64\n",
       "synack               float64\n",
       "ackdat               float64\n",
       "smean                  int64\n",
       "dmean                  int64\n",
       "trans_depth            int64\n",
       "response_body_len      int64\n",
       "ct_srv_src             int64\n",
       "ct_state_ttl           int64\n",
       "ct_dst_ltm             int64\n",
       "ct_src_dport_ltm       int64\n",
       "ct_dst_sport_ltm       int64\n",
       "ct_dst_src_ltm         int64\n",
       "is_ftp_login           int64\n",
       "ct_ftp_cmd             int64\n",
       "ct_flw_http_mthd       int64\n",
       "ct_src_ltm             int64\n",
       "ct_srv_dst             int64\n",
       "is_sm_ips_ports        int64\n",
       "label                  int64\n",
       "dtype: object"
      ]
     },
     "execution_count": 16,
     "metadata": {},
     "output_type": "execute_result"
    }
   ],
   "source": [
    "#SHOW THE DATATYPE OF EACH VARIABLE IN THE DATA FRAME\n",
    "train.dtypes"
   ]
  },
  {
   "cell_type": "code",
   "execution_count": 17,
   "id": "fdfdbcc5",
   "metadata": {},
   "outputs": [
    {
     "data": {
      "text/html": [
       "<div>\n",
       "<style scoped>\n",
       "    .dataframe tbody tr th:only-of-type {\n",
       "        vertical-align: middle;\n",
       "    }\n",
       "\n",
       "    .dataframe tbody tr th {\n",
       "        vertical-align: top;\n",
       "    }\n",
       "\n",
       "    .dataframe thead th {\n",
       "        text-align: right;\n",
       "    }\n",
       "</style>\n",
       "<table border=\"1\" class=\"dataframe\">\n",
       "  <thead>\n",
       "    <tr style=\"text-align: right;\">\n",
       "      <th></th>\n",
       "      <th>proto</th>\n",
       "      <th>service</th>\n",
       "      <th>state</th>\n",
       "    </tr>\n",
       "  </thead>\n",
       "  <tbody>\n",
       "    <tr>\n",
       "      <th>0</th>\n",
       "      <td>tcp</td>\n",
       "      <td>-</td>\n",
       "      <td>FIN</td>\n",
       "    </tr>\n",
       "    <tr>\n",
       "      <th>1</th>\n",
       "      <td>tcp</td>\n",
       "      <td>-</td>\n",
       "      <td>FIN</td>\n",
       "    </tr>\n",
       "    <tr>\n",
       "      <th>2</th>\n",
       "      <td>tcp</td>\n",
       "      <td>-</td>\n",
       "      <td>FIN</td>\n",
       "    </tr>\n",
       "    <tr>\n",
       "      <th>3</th>\n",
       "      <td>tcp</td>\n",
       "      <td>ftp</td>\n",
       "      <td>FIN</td>\n",
       "    </tr>\n",
       "    <tr>\n",
       "      <th>4</th>\n",
       "      <td>tcp</td>\n",
       "      <td>-</td>\n",
       "      <td>FIN</td>\n",
       "    </tr>\n",
       "    <tr>\n",
       "      <th>...</th>\n",
       "      <td>...</td>\n",
       "      <td>...</td>\n",
       "      <td>...</td>\n",
       "    </tr>\n",
       "    <tr>\n",
       "      <th>175336</th>\n",
       "      <td>udp</td>\n",
       "      <td>dns</td>\n",
       "      <td>INT</td>\n",
       "    </tr>\n",
       "    <tr>\n",
       "      <th>175337</th>\n",
       "      <td>tcp</td>\n",
       "      <td>-</td>\n",
       "      <td>FIN</td>\n",
       "    </tr>\n",
       "    <tr>\n",
       "      <th>175338</th>\n",
       "      <td>udp</td>\n",
       "      <td>dns</td>\n",
       "      <td>INT</td>\n",
       "    </tr>\n",
       "    <tr>\n",
       "      <th>175339</th>\n",
       "      <td>udp</td>\n",
       "      <td>dns</td>\n",
       "      <td>INT</td>\n",
       "    </tr>\n",
       "    <tr>\n",
       "      <th>175340</th>\n",
       "      <td>udp</td>\n",
       "      <td>dns</td>\n",
       "      <td>INT</td>\n",
       "    </tr>\n",
       "  </tbody>\n",
       "</table>\n",
       "<p>175341 rows × 3 columns</p>\n",
       "</div>"
      ],
      "text/plain": [
       "       proto service state\n",
       "0        tcp       -   FIN\n",
       "1        tcp       -   FIN\n",
       "2        tcp       -   FIN\n",
       "3        tcp     ftp   FIN\n",
       "4        tcp       -   FIN\n",
       "...      ...     ...   ...\n",
       "175336   udp     dns   INT\n",
       "175337   tcp       -   FIN\n",
       "175338   udp     dns   INT\n",
       "175339   udp     dns   INT\n",
       "175340   udp     dns   INT\n",
       "\n",
       "[175341 rows x 3 columns]"
      ]
     },
     "execution_count": 17,
     "metadata": {},
     "output_type": "execute_result"
    }
   ],
   "source": [
    "#DISPLAY ONLY CATEGORICAL DATA (OBJECT DATATYPES)\n",
    "train.select_dtypes(include = ['object'])"
   ]
  },
  {
   "cell_type": "code",
   "execution_count": 18,
   "id": "ab681740",
   "metadata": {},
   "outputs": [],
   "source": [
    "#remove 'id' column from both train & test datasets\n",
    "train.drop(['id'], axis=1, inplace=True)\n",
    "test.drop(['id'], axis=1, inplace=True)"
   ]
  },
  {
   "cell_type": "markdown",
   "id": "c57192f6",
   "metadata": {},
   "source": [
    "### 3.2. SCALING NUMERICAL ATTRIBUTES"
   ]
  },
  {
   "cell_type": "code",
   "execution_count": 19,
   "id": "9d8187a9",
   "metadata": {},
   "outputs": [],
   "source": [
    "from sklearn.preprocessing import StandardScaler\n",
    "scaler = StandardScaler()\n",
    "\n",
    "# extract numerical attributes and scale it to have zero mean and unit variance  \n",
    "cols = train.select_dtypes(include=['float64','int64']).columns\n",
    "sc_train = scaler.fit_transform(train.select_dtypes(include=['float64','int64']))\n",
    "sc_test = scaler.fit_transform(test.select_dtypes(include=['float64','int64']))\n",
    "\n",
    "# turn the result back to a dataframe\n",
    "sc_traindf = pd.DataFrame(sc_train, columns = cols)\n",
    "sc_testdf = pd.DataFrame(sc_test, columns = cols)\n",
    "\n",
    "# separate target column from numerical data \n",
    "sc_traindf = sc_traindf.drop(['label'], axis=1)\n",
    "\n",
    "sc_testdf = sc_testdf.drop(['label'], axis=1)"
   ]
  },
  {
   "cell_type": "markdown",
   "id": "71799dae",
   "metadata": {},
   "source": [
    "### 3.3. ENCODING CATEGORICAL ATTRIBUTES"
   ]
  },
  {
   "cell_type": "code",
   "execution_count": 20,
   "id": "b293b0fc",
   "metadata": {},
   "outputs": [],
   "source": [
    "from sklearn.preprocessing import LabelEncoder\n",
    "encoder = LabelEncoder()\n",
    "\n",
    "# extract categorical attributes from both training and test sets \n",
    "cattrain = train.select_dtypes(include=['object']).copy()\n",
    "cattest = test.select_dtypes(include=['object']).copy()\n",
    "\n",
    "# encode the categorical attributes\n",
    "traincat = cattrain.apply(encoder.fit_transform)\n",
    "testcat = cattest.apply(encoder.fit_transform)\n",
    "\n"
   ]
  },
  {
   "cell_type": "markdown",
   "id": "f6b8b661",
   "metadata": {},
   "source": [
    "### 3.4. ASSIGN INPUT AND OUTPUT DATAFRAMES"
   ]
  },
  {
   "cell_type": "code",
   "execution_count": 21,
   "id": "dd723ed8",
   "metadata": {},
   "outputs": [
    {
     "data": {
      "text/plain": [
       "(175341, 42)"
      ]
     },
     "execution_count": 21,
     "metadata": {},
     "output_type": "execute_result"
    }
   ],
   "source": [
    "train_x = pd.concat([sc_traindf,traincat],axis=1)\n",
    "train_y = train['label']\n",
    "train_x.shape"
   ]
  },
  {
   "cell_type": "code",
   "execution_count": 22,
   "id": "18d90276",
   "metadata": {},
   "outputs": [
    {
     "data": {
      "text/plain": [
       "(82332, 42)"
      ]
     },
     "execution_count": 22,
     "metadata": {},
     "output_type": "execute_result"
    }
   ],
   "source": [
    "test_x = pd.concat([sc_testdf,testcat],axis=1)\n",
    "test_y = test['label']\n",
    "test_x.shape"
   ]
  },
  {
   "cell_type": "markdown",
   "id": "6988fb3e",
   "metadata": {},
   "source": [
    "### 3.5. FEATURE SELECTION"
   ]
  },
  {
   "cell_type": "code",
   "execution_count": 23,
   "id": "8fc1a9a2",
   "metadata": {},
   "outputs": [
    {
     "data": {
      "image/png": "[encoded data removed]",
      "text/plain": [
       "<Figure size 792x288 with 1 Axes>"
      ]
     },
     "metadata": {
      "needs_background": "light"
     },
     "output_type": "display_data"
    }
   ],
   "source": [
    "from sklearn.ensemble import RandomForestClassifier\n",
    "rfc = RandomForestClassifier();\n",
    "\n",
    "# fit random forest classifier on the training set\n",
    "rfc.fit(train_x, train_y);\n",
    "# extract important features\n",
    "score = np.round(rfc.feature_importances_,3)\n",
    "importances = pd.DataFrame({'feature':train_x.columns,'importance':score})\n",
    "importances = importances.sort_values('importance',ascending=False).set_index('feature')\n",
    "# plot importances\n",
    "plt.rcParams['figure.figsize'] = (11, 4)\n",
    "importances.plot.bar();"
   ]
  },
  {
   "cell_type": "code",
   "execution_count": 24,
   "id": "005e0bb3",
   "metadata": {},
   "outputs": [
    {
     "data": {
      "text/plain": [
       "['dur',\n",
       " 'spkts',\n",
       " 'dpkts',\n",
       " 'sbytes',\n",
       " 'dbytes',\n",
       " 'rate',\n",
       " 'sttl',\n",
       " 'dttl',\n",
       " 'sload',\n",
       " 'dload',\n",
       " 'sloss',\n",
       " 'dloss',\n",
       " 'sinpkt',\n",
       " 'dinpkt',\n",
       " 'sjit',\n",
       " 'djit',\n",
       " 'swin',\n",
       " 'stcpb',\n",
       " 'dtcpb',\n",
       " 'tcprtt',\n",
       " 'synack',\n",
       " 'ackdat',\n",
       " 'smean',\n",
       " 'dmean',\n",
       " 'response_body_len',\n",
       " 'ct_srv_src',\n",
       " 'ct_state_ttl',\n",
       " 'ct_dst_ltm',\n",
       " 'ct_src_dport_ltm',\n",
       " 'ct_dst_sport_ltm',\n",
       " 'ct_dst_src_ltm',\n",
       " 'ct_flw_http_mthd',\n",
       " 'ct_src_ltm',\n",
       " 'ct_srv_dst',\n",
       " 'is_sm_ips_ports',\n",
       " 'proto',\n",
       " 'service',\n",
       " 'state']"
      ]
     },
     "execution_count": 24,
     "metadata": {},
     "output_type": "execute_result"
    }
   ],
   "source": [
    "from sklearn.feature_selection import RFE\n",
    "import itertools\n",
    "rfc = RandomForestClassifier()\n",
    "\n",
    "# create the RFE model and select 38 attributes\n",
    "rfe = RFE(rfc, n_features_to_select=38)\n",
    "rfe = rfe.fit(train_x, train_y)\n",
    "\n",
    "# summarize the selection of the attributes\n",
    "feature_map = [(i, v) for i, v in itertools.zip_longest(rfe.get_support(), train_x.columns)]\n",
    "selected_features = [v for i, v in feature_map if i==True]\n",
    "\n",
    "selected_features"
   ]
  },
  {
   "cell_type": "markdown",
   "id": "4f63d26d",
   "metadata": {},
   "source": [
    "## 4. DATASET PARTITIONING/SPLITTING"
   ]
  },
  {
   "cell_type": "code",
   "execution_count": 25,
   "id": "f79ce128",
   "metadata": {},
   "outputs": [],
   "source": [
    "from sklearn.model_selection import train_test_split\n",
    "\n",
    "X_train,X_test,Y_train,Y_test = train_test_split(train_x,train_y,train_size=0.70, random_state=2)"
   ]
  },
  {
   "cell_type": "markdown",
   "id": "ef33e1a6",
   "metadata": {},
   "source": [
    "## 5. FITTING MODELS"
   ]
  },
  {
   "cell_type": "code",
   "execution_count": 26,
   "id": "847fcf07",
   "metadata": {},
   "outputs": [
    {
     "data": {
      "text/plain": [
       "DecisionTreeClassifier(criterion='entropy', random_state=0)"
      ]
     },
     "execution_count": 26,
     "metadata": {},
     "output_type": "execute_result"
    }
   ],
   "source": [
    "from sklearn.svm import SVC \n",
    "from sklearn.naive_bayes import BernoulliNB \n",
    "from sklearn import tree\n",
    "from sklearn.model_selection import cross_val_score\n",
    "from sklearn.neighbors import KNeighborsClassifier\n",
    "from sklearn.linear_model import LogisticRegression\n",
    "\n",
    "# Train KNeighborsClassifier Model\n",
    "KNN_Classifier = KNeighborsClassifier(n_jobs=-1)\n",
    "KNN_Classifier.fit(X_train, Y_train); \n",
    "\n",
    "# Train LogisticRegression Model\n",
    "LGR_Classifier = LogisticRegression(n_jobs=-1, random_state=0)\n",
    "LGR_Classifier.fit(X_train, Y_train);\n",
    "\n",
    "# Train Gaussian Naive Baye Model\n",
    "BNB_Classifier = BernoulliNB()\n",
    "BNB_Classifier.fit(X_train, Y_train)\n",
    "            \n",
    "# Train Decision Tree Model\n",
    "DTC_Classifier = tree.DecisionTreeClassifier(criterion='entropy', random_state=0)\n",
    "DTC_Classifier.fit(X_train, Y_train)"
   ]
  },
  {
   "cell_type": "markdown",
   "id": "dfde1f3d",
   "metadata": {},
   "source": [
    "## 6. TEST MODELS/ MAKE OUTPUT PREDICTIONS "
   ]
  },
  {
   "cell_type": "code",
   "execution_count": 27,
   "id": "11e0b992",
   "metadata": {},
   "outputs": [],
   "source": [
    "pred_knn = KNN_Classifier.predict(X_test)\n",
    "pred_NB = BNB_Classifier.predict(X_test)\n",
    "pred_log = LGR_Classifier.predict(X_test)\n",
    "pred_dt = DTC_Classifier.predict(X_test)"
   ]
  },
  {
   "cell_type": "code",
   "execution_count": 28,
   "id": "fd67ae2b",
   "metadata": {},
   "outputs": [
    {
     "data": {
      "text/plain": [
       "array([0, 1, 1, ..., 1, 1, 1], dtype=int64)"
      ]
     },
     "execution_count": 28,
     "metadata": {},
     "output_type": "execute_result"
    }
   ],
   "source": [
    "# KNeighborsClassifier Model Output Prediction\n",
    "pred_knn"
   ]
  },
  {
   "cell_type": "code",
   "execution_count": 29,
   "id": "5feb0cd6",
   "metadata": {},
   "outputs": [
    {
     "data": {
      "text/plain": [
       "array([1, 0, 1, ..., 0, 1, 1], dtype=int64)"
      ]
     },
     "execution_count": 29,
     "metadata": {},
     "output_type": "execute_result"
    }
   ],
   "source": [
    "# Gaussian Naive Baye Model Output Prediction\n",
    "pred_NB"
   ]
  },
  {
   "cell_type": "code",
   "execution_count": 30,
   "id": "6c780ccf",
   "metadata": {},
   "outputs": [
    {
     "data": {
      "text/plain": [
       "array([1, 1, 1, ..., 1, 1, 1], dtype=int64)"
      ]
     },
     "execution_count": 30,
     "metadata": {},
     "output_type": "execute_result"
    }
   ],
   "source": [
    "# LogisticRegression Model Output Prediction\n",
    "pred_log"
   ]
  },
  {
   "cell_type": "code",
   "execution_count": 31,
   "id": "95de0c2f",
   "metadata": {},
   "outputs": [
    {
     "data": {
      "text/plain": [
       "array([0, 0, 1, ..., 1, 1, 1], dtype=int64)"
      ]
     },
     "execution_count": 31,
     "metadata": {},
     "output_type": "execute_result"
    }
   ],
   "source": [
    "# Decision Tree Model Output Prediction\n",
    "pred_dt"
   ]
  },
  {
   "cell_type": "markdown",
   "id": "d1d7b663",
   "metadata": {},
   "source": [
    "## 7. PERFORMANCE EVALUATION"
   ]
  },
  {
   "cell_type": "code",
   "execution_count": 32,
   "id": "7786fe33",
   "metadata": {},
   "outputs": [
    {
     "name": "stdout",
     "output_type": "stream",
     "text": [
      "\n",
      "============================== KNeighborsClassifier Model Evaluation ==============================\n",
      "\n",
      "KNeighborsClassifier Model Accuracy score:  0.9379503070167101\n",
      "\n",
      "Confusion Matrix:\n",
      "[[14749  1996]\n",
      " [ 1268 34590]]\n",
      "\n",
      "Classification Report:\n",
      "              precision    recall  f1-score   support\n",
      "\n",
      "           0       0.92      0.88      0.90     16745\n",
      "           1       0.95      0.96      0.95     35858\n",
      "\n",
      "    accuracy                           0.94     52603\n",
      "   macro avg       0.93      0.92      0.93     52603\n",
      "weighted avg       0.94      0.94      0.94     52603\n",
      "\n",
      "\n",
      "============================== Gaussian Naive Baye Model Evaluation ==============================\n",
      "\n",
      "Gaussian Naive Baye Model Accuracy score:  0.8094405262057297\n",
      "\n",
      "Confusion Matrix:\n",
      "[[14011  2734]\n",
      " [ 7290 28568]]\n",
      "\n",
      "Classification Report:\n",
      "              precision    recall  f1-score   support\n",
      "\n",
      "           0       0.66      0.84      0.74     16745\n",
      "           1       0.91      0.80      0.85     35858\n",
      "\n",
      "    accuracy                           0.81     52603\n",
      "   macro avg       0.79      0.82      0.79     52603\n",
      "weighted avg       0.83      0.81      0.81     52603\n",
      "\n",
      "\n",
      "============================== LogisticRegression Model Evaluation ==============================\n",
      "\n",
      "LogisticRegression Model Accuracy score:  0.9262209379693174\n",
      "\n",
      "Confusion Matrix:\n",
      "[[13597  3148]\n",
      " [  733 35125]]\n",
      "\n",
      "Classification Report:\n",
      "              precision    recall  f1-score   support\n",
      "\n",
      "           0       0.95      0.81      0.88     16745\n",
      "           1       0.92      0.98      0.95     35858\n",
      "\n",
      "    accuracy                           0.93     52603\n",
      "   macro avg       0.93      0.90      0.91     52603\n",
      "weighted avg       0.93      0.93      0.92     52603\n",
      "\n",
      "\n",
      "============================== Decision Tree Model Evaluation ==============================\n",
      "\n",
      "Decision Tree Model Accuracy score:  0.9488242115468699\n",
      "\n",
      "Confusion Matrix:\n",
      "[[15427  1318]\n",
      " [ 1374 34484]]\n",
      "\n",
      "Classification Report:\n",
      "              precision    recall  f1-score   support\n",
      "\n",
      "           0       0.92      0.92      0.92     16745\n",
      "           1       0.96      0.96      0.96     35858\n",
      "\n",
      "    accuracy                           0.95     52603\n",
      "   macro avg       0.94      0.94      0.94     52603\n",
      "weighted avg       0.95      0.95      0.95     52603\n",
      "\n"
     ]
    }
   ],
   "source": [
    "\n",
    "from sklearn.metrics import accuracy_score\n",
    "from sklearn.metrics import confusion_matrix\n",
    "\n",
    "print()\n",
    "print('============================== KNeighborsClassifier Model Evaluation ==============================')\n",
    "print()\n",
    "\n",
    "print('KNeighborsClassifier Model Accuracy score: ', accuracy_score(Y_test, pred_knn))\n",
    "\n",
    "print()\n",
    "\n",
    "print('Confusion Matrix:')\n",
    "\n",
    "print(confusion_matrix(Y_test, pred_knn))\n",
    "\n",
    "print()\n",
    "\n",
    "print('Classification Report:')\n",
    "\n",
    "print(classification_report(Y_test, pred_knn))\n",
    "\n",
    "print()\n",
    "print('============================== Gaussian Naive Baye Model Evaluation ==============================')\n",
    "print()\n",
    "\n",
    "print('Gaussian Naive Baye Model Accuracy score: ', accuracy_score(Y_test, pred_NB))\n",
    "\n",
    "print()\n",
    "\n",
    "print('Confusion Matrix:')\n",
    "\n",
    "print(confusion_matrix(Y_test, pred_NB))\n",
    "\n",
    "print()\n",
    "\n",
    "print('Classification Report:')\n",
    "    \n",
    "print(classification_report(Y_test, pred_NB))\n",
    "\n",
    "print()\n",
    "print('============================== LogisticRegression Model Evaluation ==============================')\n",
    "print()\n",
    "\n",
    "print('LogisticRegression Model Accuracy score: ', accuracy_score(Y_test, pred_log))\n",
    "\n",
    "print()\n",
    "\n",
    "print('Confusion Matrix:')\n",
    "\n",
    "print(confusion_matrix(Y_test, pred_log))\n",
    "\n",
    "print()\n",
    "\n",
    "print('Classification Report:')\n",
    "    \n",
    "print(classification_report(Y_test, pred_log))\n",
    "\n",
    "\n",
    "print()\n",
    "print('============================== Decision Tree Model Evaluation ==============================')\n",
    "print()\n",
    "\n",
    "print('Decision Tree Model Accuracy score: ', accuracy_score(Y_test, pred_dt))\n",
    "\n",
    "print()\n",
    "\n",
    "print('Confusion Matrix:')\n",
    "\n",
    "print(confusion_matrix(Y_test, pred_dt))\n",
    "\n",
    "print()\n",
    "\n",
    "print('Classification Report:')\n",
    "    \n",
    "print(classification_report(Y_test, pred_dt))"
   ]
  },
  {
   "cell_type": "code",
   "execution_count": null,
   "id": "1f14ed1f",
   "metadata": {},
   "outputs": [],
   "source": []
  },
  {
   "cell_type": "code",
   "execution_count": null,
   "id": "5fd466ab",
   "metadata": {},
   "outputs": [],
   "source": []
  },
  {
   "cell_type": "code",
   "execution_count": null,
   "id": "059b7d24",
   "metadata": {},
   "outputs": [],
   "source": []
  },
  {
   "cell_type": "code",
   "execution_count": null,
   "id": "f7f213b2",
   "metadata": {},
   "outputs": [],
   "source": []
  },
  {
   "cell_type": "code",
   "execution_count": null,
   "id": "d526d4a3",
   "metadata": {},
   "outputs": [],
   "source": []
  }
 ],
 "metadata": {
  "kernelspec": {
   "display_name": "Python 3",
   "language": "python",
   "name": "python3"
  },
  "language_info": {
   "codemirror_mode": {
    "name": "ipython",
    "version": 3
   },
   "file_extension": ".py",
   "mimetype": "text/x-python",
   "name": "python",
   "nbconvert_exporter": "python",
   "pygments_lexer": "ipython3",
   "version": "3.8.8"
  }
 },
 "nbformat": 4,
 "nbformat_minor": 5
}
